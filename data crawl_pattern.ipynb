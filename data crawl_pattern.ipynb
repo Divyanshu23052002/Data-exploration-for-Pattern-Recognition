{
 "cells": [
  {
   "cell_type": "code",
   "execution_count": 1,
   "metadata": {},
   "outputs": [],
   "source": [
    "import json"
   ]
  },
  {
   "cell_type": "code",
   "execution_count": 2,
   "metadata": {},
   "outputs": [],
   "source": [
    "with open(r\"C:\\Users\\bansal\\Downloads\\BANKNIFTY.json\", 'r') as f:\n",
    "    df=json.load(f)"
   ]
  },
  {
   "cell_type": "code",
   "execution_count": 16,
   "metadata": {},
   "outputs": [],
   "source": [
    "from bs4 import BeautifulSoup\n",
    "import requests\n",
    "\n",
    "pages_crawled = []\n",
    "\n",
    "\n",
    "def crawler(url):\n",
    "    page = requests.get(url)\n",
    "    soup = BeautifulSoup(page.text, 'html.parser')\n",
    "    links = soup.find_all('a')\n",
    "\n",
    "    for link in links:\n",
    "        if 'href' in link.attrs:\n",
    "            if link['href'].startswith('/drive') and ':' not in link['href']:\n",
    "                if link['href'] not in pages_crawled:\n",
    "                    new_link = f\"https://drive.google.com/file/d/1sn4NwfCB_mJncnJ1l2_5HrzuV4w5Pnc7/view?usp=share_link{link['href']}\"\n",
    "                    pages_crawled.append(link['href'])\n",
    "                    try:\n",
    "                        with open('data.csv', 'a') as file:\n",
    "                            file.write(f'{soup.title.text}; {soup.h1.text}; {link[\"href\"]}\\n')\n",
    "                        crawler(new_link)\n",
    "                    except:\n",
    "                        continue\n",
    "                                       \n",
    "                                                                 \n",
    "crawler('https://drive.google.com/file/d/1sn4NwfCB_mJncnJ1l2_5HrzuV4w5Pnc7/view?usp=share_link')"
   ]
  }
 ],
 "metadata": {
  "kernelspec": {
   "display_name": "Python 3",
   "language": "python",
   "name": "python3"
  },
  "language_info": {
   "codemirror_mode": {
    "name": "ipython",
    "version": 3
   },
   "file_extension": ".py",
   "mimetype": "text/x-python",
   "name": "python",
   "nbconvert_exporter": "python",
   "pygments_lexer": "ipython3",
   "version": "3.8.5"
  }
 },
 "nbformat": 4,
 "nbformat_minor": 4
}
